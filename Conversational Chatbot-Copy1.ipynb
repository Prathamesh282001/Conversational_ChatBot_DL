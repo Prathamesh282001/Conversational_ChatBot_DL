{
 "cells": [
  {
   "cell_type": "code",
   "execution_count": 9,
   "id": "b6fc8a01",
   "metadata": {},
   "outputs": [],
   "source": [
    "# reading json file using pandas\n",
    "#intents2 = pd.read_json(\"intents.json\")\n",
    "#intents2"
   ]
  },
  {
   "cell_type": "code",
   "execution_count": 10,
   "id": "3be671d6",
   "metadata": {},
   "outputs": [
    {
     "name": "stdout",
     "output_type": "stream",
     "text": [
      "WARNING:tensorflow:From /Library/Frameworks/Python.framework/Versions/3.9/lib/python3.9/site-packages/tensorflow/python/compat/v2_compat.py:107: disable_resource_variables (from tensorflow.python.ops.variable_scope) is deprecated and will be removed in a future version.\n",
      "Instructions for updating:\n",
      "non-resource variables are not supported in the long term\n"
     ]
    }
   ],
   "source": [
    "import numpy as np\n",
    "import pandas as pd\n",
    "import tensorflow as tf\n",
    "import tflearn\n",
    "import random\n",
    "import nltk\n",
    "import warnings\n",
    "warnings.filterwarnings(\"ignore\")\n"
   ]
  },
  {
   "cell_type": "code",
   "execution_count": 11,
   "id": "764950e9",
   "metadata": {},
   "outputs": [
    {
     "data": {
      "text/plain": [
       "{'intents': [{'tag': 'greeting',\n",
       "   'patterns': ['Hi', 'How are you', 'Is anyone there?', 'Hello', 'Good day'],\n",
       "   'responses': ['Hello, thanks for visiting',\n",
       "    'Good to see you again',\n",
       "    'Hi there, how can I help?'],\n",
       "   'context_set': ''},\n",
       "  {'tag': 'goodbye',\n",
       "   'patterns': ['Bye', 'See you later', 'Goodbye'],\n",
       "   'responses': ['See you later, thanks for visiting',\n",
       "    'Have a nice day',\n",
       "    'Bye! Come back again soon.']},\n",
       "  {'tag': 'thanks',\n",
       "   'patterns': ['Thanks', 'Thank you', \"That's helpful\"],\n",
       "   'responses': ['Happy to help!', 'Any time!', 'My pleasure']},\n",
       "  {'tag': 'hours',\n",
       "   'patterns': ['What hours are you open?',\n",
       "    'What are your hours?',\n",
       "    'When are you open?'],\n",
       "   'responses': [\"We're open every day 9am-9pm\",\n",
       "    'Our hours are 9am-9pm every day']},\n",
       "  {'tag': 'mopeds',\n",
       "   'patterns': ['Which mopeds do you have?',\n",
       "    'What kinds of mopeds are there?',\n",
       "    'What do you rent?'],\n",
       "   'responses': ['We rent Yamaha, Piaggio and Vespa mopeds',\n",
       "    'We have Piaggio, Vespa and Yamaha mopeds']},\n",
       "  {'tag': 'payments',\n",
       "   'patterns': ['Do you take credit cards?',\n",
       "    'Do you accept Mastercard?',\n",
       "    'Are you cash only?'],\n",
       "   'responses': ['We accept VISA, Mastercard and AMEX',\n",
       "    'We accept most major credit cards']},\n",
       "  {'tag': 'opentoday',\n",
       "   'patterns': ['Are you open today?',\n",
       "    'When do you open today?',\n",
       "    'What are your hours today?'],\n",
       "   'responses': [\"We're open every day from 9am-9pm\",\n",
       "    'Our hours are 9am-9pm every day']},\n",
       "  {'tag': 'rental',\n",
       "   'patterns': ['Can we rent a moped?',\n",
       "    \"I'd like to rent a moped\",\n",
       "    'How does this work?'],\n",
       "   'responses': ['Are you looking to rent today or later this week?'],\n",
       "   'context_set': 'rentalday'},\n",
       "  {'tag': 'today',\n",
       "   'patterns': ['today'],\n",
       "   'responses': ['For rentals today please call 1-800-MYMOPED',\n",
       "    'Same-day rentals please call 1-800-MYMOPED'],\n",
       "   'context_filter': 'rentalday'}]}"
      ]
     },
     "execution_count": 11,
     "metadata": {},
     "output_type": "execute_result"
    }
   ],
   "source": [
    "import json\n",
    "\n",
    "with open(\"intents.json\") as f:\n",
    "    intents = json.load(f)\n",
    "intents\n"
   ]
  },
  {
   "cell_type": "code",
   "execution_count": 12,
   "id": "7aad94c6",
   "metadata": {},
   "outputs": [],
   "source": [
    "words = []\n",
    "labels = []\n",
    "documents = []\n",
    "ignore = ['?']\n",
    "\n",
    "for i in intents[\"intents\"]:\n",
    "    for sentence in i[\"patterns\"]:\n",
    "        \n",
    "        token = nltk.word_tokenize(sentence)  # applying tokenization\n",
    "        \n",
    "        words.extend(token)\n",
    "        documents.append((token,i['tag']))\n",
    "        \n",
    "        if i['tag'] not in labels:\n",
    "            labels.append(i['tag'])\n",
    "            "
   ]
  },
  {
   "cell_type": "code",
   "execution_count": 13,
   "id": "031712c1",
   "metadata": {},
   "outputs": [
    {
     "name": "stdout",
     "output_type": "stream",
     "text": [
      "48\n"
     ]
    },
    {
     "data": {
      "text/plain": [
       "[\"'d\",\n",
       " \"'s\",\n",
       " 'a',\n",
       " 'acceiv',\n",
       " 'anyon',\n",
       " 'ar',\n",
       " 'bye',\n",
       " 'can',\n",
       " 'card',\n",
       " 'cash',\n",
       " 'credit',\n",
       " 'day',\n",
       " 'do',\n",
       " 'doe',\n",
       " 'good',\n",
       " 'goodby',\n",
       " 'hav',\n",
       " 'hello',\n",
       " 'help',\n",
       " 'hi',\n",
       " 'hour',\n",
       " 'how',\n",
       " 'i',\n",
       " 'is',\n",
       " 'kind',\n",
       " 'lat',\n",
       " 'lik',\n",
       " 'mastercard',\n",
       " 'mop',\n",
       " 'of',\n",
       " 'on',\n",
       " 'op',\n",
       " 'rent',\n",
       " 'see',\n",
       " 'tak',\n",
       " 'thank',\n",
       " 'that',\n",
       " 'ther',\n",
       " 'thi',\n",
       " 'to',\n",
       " 'today',\n",
       " 'we',\n",
       " 'what',\n",
       " 'when',\n",
       " 'which',\n",
       " 'work',\n",
       " 'yo',\n",
       " 'you']"
      ]
     },
     "execution_count": 13,
     "metadata": {},
     "output_type": "execute_result"
    }
   ],
   "source": [
    "from nltk.stem.lancaster import LancasterStemmer\n",
    "\n",
    "stemmer = LancasterStemmer()  # stemming\n",
    "words = [stemmer.stem(w.lower()) for w in words if w not in ignore]\n",
    "words = sorted(list(set(words)))\n",
    "print(len(words))\n",
    "words"
   ]
  },
  {
   "cell_type": "code",
   "execution_count": 14,
   "id": "ea7f53ff",
   "metadata": {},
   "outputs": [],
   "source": [
    "labels = sorted(list(set(labels)))"
   ]
  },
  {
   "cell_type": "code",
   "execution_count": 15,
   "id": "d1c343e8",
   "metadata": {},
   "outputs": [
    {
     "name": "stdout",
     "output_type": "stream",
     "text": [
      "[[[0, 0, 0, 0, 0, 0, 0, 0, 0, 0, 0, 0, 0, 0, 0, 0, 0, 0, 0, 1, 0, 0, 0, 0, 0, 0, 0, 0, 0, 0, 0, 0, 0, 0, 0, 0, 0, 0, 0, 0, 0, 0, 0, 0, 0, 0, 0, 0], [0, 1, 0, 0, 0, 0, 0, 0, 0]], [[0, 0, 0, 0, 0, 1, 0, 0, 0, 0, 0, 0, 0, 0, 0, 0, 0, 0, 0, 0, 0, 1, 0, 0, 0, 0, 0, 0, 0, 0, 0, 0, 0, 0, 0, 0, 0, 0, 0, 0, 0, 0, 0, 0, 0, 0, 0, 1], [0, 1, 0, 0, 0, 0, 0, 0, 0]], [[0, 0, 0, 0, 1, 0, 0, 0, 0, 0, 0, 0, 0, 0, 0, 0, 0, 0, 0, 0, 0, 0, 0, 1, 0, 0, 0, 0, 0, 0, 0, 0, 0, 0, 0, 0, 0, 1, 0, 0, 0, 0, 0, 0, 0, 0, 0, 0], [0, 1, 0, 0, 0, 0, 0, 0, 0]], [[0, 0, 0, 0, 0, 0, 0, 0, 0, 0, 0, 0, 0, 0, 0, 0, 0, 1, 0, 0, 0, 0, 0, 0, 0, 0, 0, 0, 0, 0, 0, 0, 0, 0, 0, 0, 0, 0, 0, 0, 0, 0, 0, 0, 0, 0, 0, 0], [0, 1, 0, 0, 0, 0, 0, 0, 0]], [[0, 0, 0, 0, 0, 0, 0, 0, 0, 0, 0, 1, 0, 0, 1, 0, 0, 0, 0, 0, 0, 0, 0, 0, 0, 0, 0, 0, 0, 0, 0, 0, 0, 0, 0, 0, 0, 0, 0, 0, 0, 0, 0, 0, 0, 0, 0, 0], [0, 1, 0, 0, 0, 0, 0, 0, 0]], [[0, 0, 0, 0, 0, 0, 1, 0, 0, 0, 0, 0, 0, 0, 0, 0, 0, 0, 0, 0, 0, 0, 0, 0, 0, 0, 0, 0, 0, 0, 0, 0, 0, 0, 0, 0, 0, 0, 0, 0, 0, 0, 0, 0, 0, 0, 0, 0], [1, 0, 0, 0, 0, 0, 0, 0, 0]], [[0, 0, 0, 0, 0, 0, 0, 0, 0, 0, 0, 0, 0, 0, 0, 0, 0, 0, 0, 0, 0, 0, 0, 0, 0, 1, 0, 0, 0, 0, 0, 0, 0, 1, 0, 0, 0, 0, 0, 0, 0, 0, 0, 0, 0, 0, 0, 1], [1, 0, 0, 0, 0, 0, 0, 0, 0]], [[0, 0, 0, 0, 0, 0, 0, 0, 0, 0, 0, 0, 0, 0, 0, 1, 0, 0, 0, 0, 0, 0, 0, 0, 0, 0, 0, 0, 0, 0, 0, 0, 0, 0, 0, 0, 0, 0, 0, 0, 0, 0, 0, 0, 0, 0, 0, 0], [1, 0, 0, 0, 0, 0, 0, 0, 0]], [[0, 0, 0, 0, 0, 0, 0, 0, 0, 0, 0, 0, 0, 0, 0, 0, 0, 0, 0, 0, 0, 0, 0, 0, 0, 0, 0, 0, 0, 0, 0, 0, 0, 0, 0, 1, 0, 0, 0, 0, 0, 0, 0, 0, 0, 0, 0, 0], [0, 0, 0, 0, 0, 0, 0, 1, 0]], [[0, 0, 0, 0, 0, 0, 0, 0, 0, 0, 0, 0, 0, 0, 0, 0, 0, 0, 0, 0, 0, 0, 0, 0, 0, 0, 0, 0, 0, 0, 0, 0, 0, 0, 0, 1, 0, 0, 0, 0, 0, 0, 0, 0, 0, 0, 0, 1], [0, 0, 0, 0, 0, 0, 0, 1, 0]], [[0, 1, 0, 0, 0, 0, 0, 0, 0, 0, 0, 0, 0, 0, 0, 0, 0, 0, 1, 0, 0, 0, 0, 0, 0, 0, 0, 0, 0, 0, 0, 0, 0, 0, 0, 0, 1, 0, 0, 0, 0, 0, 0, 0, 0, 0, 0, 0], [0, 0, 0, 0, 0, 0, 0, 1, 0]], [[0, 0, 0, 0, 0, 1, 0, 0, 0, 0, 0, 0, 0, 0, 0, 0, 0, 0, 0, 0, 1, 0, 0, 0, 0, 0, 0, 0, 0, 0, 0, 1, 0, 0, 0, 0, 0, 0, 0, 0, 0, 0, 1, 0, 0, 0, 0, 1], [0, 0, 1, 0, 0, 0, 0, 0, 0]], [[0, 0, 0, 0, 0, 1, 0, 0, 0, 0, 0, 0, 0, 0, 0, 0, 0, 0, 0, 0, 1, 0, 0, 0, 0, 0, 0, 0, 0, 0, 0, 0, 0, 0, 0, 0, 0, 0, 0, 0, 0, 0, 1, 0, 0, 0, 1, 0], [0, 0, 1, 0, 0, 0, 0, 0, 0]], [[0, 0, 0, 0, 0, 1, 0, 0, 0, 0, 0, 0, 0, 0, 0, 0, 0, 0, 0, 0, 0, 0, 0, 0, 0, 0, 0, 0, 0, 0, 0, 1, 0, 0, 0, 0, 0, 0, 0, 0, 0, 0, 0, 1, 0, 0, 0, 1], [0, 0, 1, 0, 0, 0, 0, 0, 0]], [[0, 0, 0, 0, 0, 0, 0, 0, 0, 0, 0, 0, 1, 0, 0, 0, 1, 0, 0, 0, 0, 0, 0, 0, 0, 0, 0, 0, 1, 0, 0, 0, 0, 0, 0, 0, 0, 0, 0, 0, 0, 0, 0, 0, 1, 0, 0, 1], [0, 0, 0, 1, 0, 0, 0, 0, 0]], [[0, 0, 0, 0, 0, 1, 0, 0, 0, 0, 0, 0, 0, 0, 0, 0, 0, 0, 0, 0, 0, 0, 0, 0, 1, 0, 0, 0, 1, 1, 0, 0, 0, 0, 0, 0, 0, 1, 0, 0, 0, 0, 1, 0, 0, 0, 0, 0], [0, 0, 0, 1, 0, 0, 0, 0, 0]], [[0, 0, 0, 0, 0, 0, 0, 0, 0, 0, 0, 0, 1, 0, 0, 0, 0, 0, 0, 0, 0, 0, 0, 0, 0, 0, 0, 0, 0, 0, 0, 0, 1, 0, 0, 0, 0, 0, 0, 0, 0, 0, 1, 0, 0, 0, 0, 1], [0, 0, 0, 1, 0, 0, 0, 0, 0]], [[0, 0, 0, 0, 0, 0, 0, 0, 1, 0, 1, 0, 1, 0, 0, 0, 0, 0, 0, 0, 0, 0, 0, 0, 0, 0, 0, 0, 0, 0, 0, 0, 0, 0, 1, 0, 0, 0, 0, 0, 0, 0, 0, 0, 0, 0, 0, 1], [0, 0, 0, 0, 0, 1, 0, 0, 0]], [[0, 0, 0, 1, 0, 0, 0, 0, 0, 0, 0, 0, 1, 0, 0, 0, 0, 0, 0, 0, 0, 0, 0, 0, 0, 0, 0, 1, 0, 0, 0, 0, 0, 0, 0, 0, 0, 0, 0, 0, 0, 0, 0, 0, 0, 0, 0, 1], [0, 0, 0, 0, 0, 1, 0, 0, 0]], [[0, 0, 0, 0, 0, 1, 0, 0, 0, 1, 0, 0, 0, 0, 0, 0, 0, 0, 0, 0, 0, 0, 0, 0, 0, 0, 0, 0, 0, 0, 1, 0, 0, 0, 0, 0, 0, 0, 0, 0, 0, 0, 0, 0, 0, 0, 0, 1], [0, 0, 0, 0, 0, 1, 0, 0, 0]], [[0, 0, 0, 0, 0, 1, 0, 0, 0, 0, 0, 0, 0, 0, 0, 0, 0, 0, 0, 0, 0, 0, 0, 0, 0, 0, 0, 0, 0, 0, 0, 1, 0, 0, 0, 0, 0, 0, 0, 0, 1, 0, 0, 0, 0, 0, 0, 1], [0, 0, 0, 0, 1, 0, 0, 0, 0]], [[0, 0, 0, 0, 0, 0, 0, 0, 0, 0, 0, 0, 1, 0, 0, 0, 0, 0, 0, 0, 0, 0, 0, 0, 0, 0, 0, 0, 0, 0, 0, 1, 0, 0, 0, 0, 0, 0, 0, 0, 1, 0, 0, 1, 0, 0, 0, 1], [0, 0, 0, 0, 1, 0, 0, 0, 0]], [[0, 0, 0, 0, 0, 1, 0, 0, 0, 0, 0, 0, 0, 0, 0, 0, 0, 0, 0, 0, 1, 0, 0, 0, 0, 0, 0, 0, 0, 0, 0, 0, 0, 0, 0, 0, 0, 0, 0, 0, 1, 0, 1, 0, 0, 0, 1, 0], [0, 0, 0, 0, 1, 0, 0, 0, 0]], [[0, 0, 1, 0, 0, 0, 0, 1, 0, 0, 0, 0, 0, 0, 0, 0, 0, 0, 0, 0, 0, 0, 0, 0, 0, 0, 0, 0, 1, 0, 0, 0, 1, 0, 0, 0, 0, 0, 0, 0, 0, 1, 0, 0, 0, 0, 0, 0], [0, 0, 0, 0, 0, 0, 1, 0, 0]], [[1, 0, 1, 0, 0, 0, 0, 0, 0, 0, 0, 0, 0, 0, 0, 0, 0, 0, 0, 0, 0, 0, 1, 0, 0, 0, 1, 0, 1, 0, 0, 0, 1, 0, 0, 0, 0, 0, 0, 1, 0, 0, 0, 0, 0, 0, 0, 0], [0, 0, 0, 0, 0, 0, 1, 0, 0]], [[0, 0, 0, 0, 0, 0, 0, 0, 0, 0, 0, 0, 0, 1, 0, 0, 0, 0, 0, 0, 0, 1, 0, 0, 0, 0, 0, 0, 0, 0, 0, 0, 0, 0, 0, 0, 0, 0, 1, 0, 0, 0, 0, 0, 0, 1, 0, 0], [0, 0, 0, 0, 0, 0, 1, 0, 0]], [[0, 0, 0, 0, 0, 0, 0, 0, 0, 0, 0, 0, 0, 0, 0, 0, 0, 0, 0, 0, 0, 0, 0, 0, 0, 0, 0, 0, 0, 0, 0, 0, 0, 0, 0, 0, 0, 0, 0, 0, 1, 0, 0, 0, 0, 0, 0, 0], [0, 0, 0, 0, 0, 0, 0, 0, 1]]]\n"
     ]
    }
   ],
   "source": [
    "train = []\n",
    "output = []\n",
    "output_empty = [0] * len(labels)\n",
    "\n",
    "for doc in documents:\n",
    "    bag_of_words = []\n",
    "    pattern = doc[0]\n",
    "    stem_words = [stemmer.stem(w.lower()) for w in pattern]\n",
    "    for w in words:\n",
    "        bag_of_words.append(1) if w in stem_words else bag_of_words.append(0)\n",
    "\n",
    "    output_row = list(output_empty)\n",
    "    output_row[labels.index(doc[1])] = 1\n",
    "\n",
    "    train.append([bag_of_words, output_row])\n",
    "print(train)"
   ]
  },
  {
   "cell_type": "code",
   "execution_count": 16,
   "id": "f467d346",
   "metadata": {},
   "outputs": [
    {
     "name": "stdout",
     "output_type": "stream",
     "text": [
      "<class 'list'>\n",
      "<class 'numpy.ndarray'>\n"
     ]
    }
   ],
   "source": [
    "random.shuffle(train)\n",
    "print(type(train))\n",
    "train = np.array(train)\n",
    "print(type(train))"
   ]
  },
  {
   "cell_type": "code",
   "execution_count": 17,
   "id": "c953357d",
   "metadata": {},
   "outputs": [],
   "source": [
    "x = train[:,0]\n",
    "y = train[:,1]"
   ]
  },
  {
   "cell_type": "code",
   "execution_count": 18,
   "id": "fab7733b",
   "metadata": {},
   "outputs": [
    {
     "name": "stdout",
     "output_type": "stream",
     "text": [
      "(27, 48)\n"
     ]
    },
    {
     "data": {
      "text/plain": [
       "array([0, 0, 0, 0, 0, 0, 0, 0, 0, 0, 0, 0, 0, 0, 0, 0, 0, 0, 0, 1, 0, 0,\n",
       "       0, 0, 0, 0, 0, 0, 0, 0, 0, 0, 0, 0, 0, 0, 0, 0, 0, 0, 0, 0, 0, 0,\n",
       "       0, 0, 0, 0])"
      ]
     },
     "execution_count": 18,
     "metadata": {},
     "output_type": "execute_result"
    }
   ],
   "source": [
    "#x1 = x.reshape(1,27)\n",
    "x1 = np.array(x.tolist())\n",
    "print(x1.shape)\n",
    "x1[0]"
   ]
  },
  {
   "cell_type": "code",
   "execution_count": 19,
   "id": "fe04296d",
   "metadata": {},
   "outputs": [
    {
     "data": {
      "text/plain": [
       "(27, 9)"
      ]
     },
     "execution_count": 19,
     "metadata": {},
     "output_type": "execute_result"
    }
   ],
   "source": [
    "from keras.utils import to_categorical\n",
    "from sklearn.preprocessing import LabelEncoder\n",
    "\n",
    "y1 = np.array(y.tolist())\n",
    "y1.shape"
   ]
  },
  {
   "cell_type": "code",
   "execution_count": 20,
   "id": "ca1606ec",
   "metadata": {},
   "outputs": [
    {
     "data": {
      "text/plain": [
       "9"
      ]
     },
     "execution_count": 20,
     "metadata": {},
     "output_type": "execute_result"
    }
   ],
   "source": [
    "num_labels = y1.shape[1]\n",
    "num_labels"
   ]
  },
  {
   "cell_type": "code",
   "execution_count": 21,
   "id": "d2c3a500",
   "metadata": {},
   "outputs": [],
   "source": [
    "from keras.models import Sequential\n",
    "from keras.layers import Dense,Dropout,Activation"
   ]
  },
  {
   "cell_type": "code",
   "execution_count": 22,
   "id": "c5981974",
   "metadata": {},
   "outputs": [],
   "source": [
    "model = Sequential()\n",
    "model.add(Dense(100,input_shape=(48,),activation=\"relu\"))\n",
    "model.add(Dropout(0.5))\n",
    "model.add(Dense(100,activation=\"relu\"))\n",
    "model.add(Dropout(0.5))\n",
    "model.add(Dense(100,activation=\"relu\"))\n",
    "model.add(Dense(num_labels,activation=\"softmax\"))"
   ]
  },
  {
   "cell_type": "code",
   "execution_count": 23,
   "id": "b1110956",
   "metadata": {},
   "outputs": [
    {
     "name": "stdout",
     "output_type": "stream",
     "text": [
      "Model: \"sequential_1\"\n",
      "_________________________________________________________________\n",
      " Layer (type)                Output Shape              Param #   \n",
      "=================================================================\n",
      " dense_3 (Dense)             (None, 100)               4900      \n",
      "                                                                 \n",
      " dropout_2 (Dropout)         (None, 100)               0         \n",
      "                                                                 \n",
      " dense_4 (Dense)             (None, 100)               10100     \n",
      "                                                                 \n",
      " dropout_3 (Dropout)         (None, 100)               0         \n",
      "                                                                 \n",
      " dense_5 (Dense)             (None, 100)               10100     \n",
      "                                                                 \n",
      " dense_6 (Dense)             (None, 9)                 909       \n",
      "                                                                 \n",
      "=================================================================\n",
      "Total params: 26,009\n",
      "Trainable params: 26,009\n",
      "Non-trainable params: 0\n",
      "_________________________________________________________________\n"
     ]
    }
   ],
   "source": [
    "model.summary()"
   ]
  },
  {
   "cell_type": "code",
   "execution_count": 24,
   "id": "228527ea",
   "metadata": {},
   "outputs": [],
   "source": [
    "model.compile(loss=\"categorical_crossentropy\",metrics=[\"accuracy\"],optimizer='adam')"
   ]
  },
  {
   "cell_type": "code",
   "execution_count": 25,
   "id": "6ec91903",
   "metadata": {},
   "outputs": [
    {
     "name": "stdout",
     "output_type": "stream",
     "text": [
      "Train on 27 samples\n",
      "Epoch 1/200\n",
      "27/27 [==============================] - 0s 4ms/sample - loss: 2.2320 - acc: 0.0000e+00\n",
      "Epoch 2/200\n",
      "27/27 [==============================] - 0s 189us/sample - loss: 2.1750 - acc: 0.2222\n",
      "Epoch 3/200\n",
      "27/27 [==============================] - 0s 176us/sample - loss: 2.1566 - acc: 0.1852\n",
      "Epoch 4/200\n",
      "27/27 [==============================] - 0s 231us/sample - loss: 2.1493 - acc: 0.2593\n",
      "Epoch 5/200\n",
      "27/27 [==============================] - 0s 174us/sample - loss: 2.1820 - acc: 0.0370\n",
      "Epoch 6/200\n",
      "27/27 [==============================] - 0s 283us/sample - loss: 2.1553 - acc: 0.1852\n",
      "Epoch 7/200\n",
      "27/27 [==============================] - 0s 210us/sample - loss: 2.1445 - acc: 0.2593\n",
      "Epoch 8/200\n",
      "27/27 [==============================] - 0s 189us/sample - loss: 2.1559 - acc: 0.2222\n",
      "Epoch 9/200\n"
     ]
    },
    {
     "name": "stderr",
     "output_type": "stream",
     "text": [
      "2023-12-20 12:04:29.600214: W tensorflow/c/c_api.cc:300] Operation '{name:'training/Adam/dense_4/bias/v/Assign' id:431 op device:{requested: '', assigned: ''} def:{{{node training/Adam/dense_4/bias/v/Assign}} = AssignVariableOp[_has_manual_control_dependencies=true, dtype=DT_FLOAT, validate_shape=false](training/Adam/dense_4/bias/v, training/Adam/dense_4/bias/v/Initializer/zeros)}}' was changed by setting attribute after it was run by a session. This mutation will have no effect, and will trigger an error in the future. Either don't modify nodes after running them or create a new session.\n"
     ]
    },
    {
     "name": "stdout",
     "output_type": "stream",
     "text": [
      "27/27 [==============================] - 0s 169us/sample - loss: 2.1576 - acc: 0.1481\n",
      "Epoch 10/200\n",
      "27/27 [==============================] - 0s 229us/sample - loss: 2.0570 - acc: 0.4074\n",
      "Epoch 11/200\n",
      "27/27 [==============================] - 0s 169us/sample - loss: 2.1009 - acc: 0.2222\n",
      "Epoch 12/200\n",
      "27/27 [==============================] - 0s 230us/sample - loss: 2.0868 - acc: 0.2222\n",
      "Epoch 13/200\n",
      "27/27 [==============================] - 0s 241us/sample - loss: 2.1089 - acc: 0.2593\n",
      "Epoch 14/200\n",
      "27/27 [==============================] - 0s 157us/sample - loss: 2.1153 - acc: 0.2222\n",
      "Epoch 15/200\n",
      "27/27 [==============================] - 0s 225us/sample - loss: 2.0825 - acc: 0.1481\n",
      "Epoch 16/200\n",
      "27/27 [==============================] - 0s 190us/sample - loss: 2.0672 - acc: 0.2963\n",
      "Epoch 17/200\n",
      "27/27 [==============================] - 0s 255us/sample - loss: 2.0689 - acc: 0.4074\n",
      "Epoch 18/200\n",
      "27/27 [==============================] - 0s 216us/sample - loss: 2.0095 - acc: 0.3704\n",
      "Epoch 19/200\n",
      "27/27 [==============================] - 0s 271us/sample - loss: 2.0286 - acc: 0.3704\n",
      "Epoch 20/200\n",
      "27/27 [==============================] - 0s 163us/sample - loss: 2.0447 - acc: 0.4074\n",
      "Epoch 21/200\n",
      "27/27 [==============================] - 0s 296us/sample - loss: 2.0353 - acc: 0.3333\n",
      "Epoch 22/200\n",
      "27/27 [==============================] - 0s 415us/sample - loss: 1.9999 - acc: 0.3333\n",
      "Epoch 23/200\n",
      "27/27 [==============================] - 0s 294us/sample - loss: 1.9834 - acc: 0.3333\n",
      "Epoch 24/200\n",
      "27/27 [==============================] - 0s 209us/sample - loss: 2.0210 - acc: 0.4074\n",
      "Epoch 25/200\n",
      "27/27 [==============================] - 0s 294us/sample - loss: 1.9416 - acc: 0.5556\n",
      "Epoch 26/200\n",
      "27/27 [==============================] - 0s 210us/sample - loss: 1.9950 - acc: 0.3704\n",
      "Epoch 27/200\n",
      "27/27 [==============================] - 0s 340us/sample - loss: 1.9364 - acc: 0.3333\n",
      "Epoch 28/200\n",
      "27/27 [==============================] - 0s 222us/sample - loss: 1.9551 - acc: 0.3333\n",
      "Epoch 29/200\n",
      "27/27 [==============================] - 0s 248us/sample - loss: 1.9978 - acc: 0.4444\n",
      "Epoch 30/200\n",
      "27/27 [==============================] - 0s 173us/sample - loss: 1.9540 - acc: 0.3704\n",
      "Epoch 31/200\n",
      "27/27 [==============================] - 0s 244us/sample - loss: 1.8715 - acc: 0.4074\n",
      "Epoch 32/200\n",
      "27/27 [==============================] - 0s 375us/sample - loss: 1.8813 - acc: 0.5185\n",
      "Epoch 33/200\n",
      "27/27 [==============================] - 0s 201us/sample - loss: 1.9152 - acc: 0.4815\n",
      "Epoch 34/200\n",
      "27/27 [==============================] - 0s 365us/sample - loss: 1.8349 - acc: 0.5185\n",
      "Epoch 35/200\n",
      "27/27 [==============================] - 0s 194us/sample - loss: 1.8763 - acc: 0.3333\n",
      "Epoch 36/200\n",
      "27/27 [==============================] - 0s 312us/sample - loss: 1.8620 - acc: 0.4074\n",
      "Epoch 37/200\n",
      "27/27 [==============================] - 0s 345us/sample - loss: 1.8000 - acc: 0.7037\n",
      "Epoch 38/200\n",
      "27/27 [==============================] - 0s 248us/sample - loss: 1.7987 - acc: 0.4444\n",
      "Epoch 39/200\n",
      "27/27 [==============================] - 0s 342us/sample - loss: 1.7373 - acc: 0.6296\n",
      "Epoch 40/200\n",
      "27/27 [==============================] - 0s 306us/sample - loss: 1.8279 - acc: 0.4074\n",
      "Epoch 41/200\n",
      "27/27 [==============================] - 0s 264us/sample - loss: 1.7394 - acc: 0.5556\n",
      "Epoch 42/200\n",
      "27/27 [==============================] - 0s 264us/sample - loss: 1.7117 - acc: 0.6296\n",
      "Epoch 43/200\n",
      "27/27 [==============================] - 0s 313us/sample - loss: 1.6818 - acc: 0.5556\n",
      "Epoch 44/200\n",
      "27/27 [==============================] - 0s 243us/sample - loss: 1.7295 - acc: 0.4444\n",
      "Epoch 45/200\n",
      "27/27 [==============================] - 0s 290us/sample - loss: 1.6302 - acc: 0.5926\n",
      "Epoch 46/200\n",
      "27/27 [==============================] - 0s 188us/sample - loss: 1.7275 - acc: 0.4444\n",
      "Epoch 47/200\n",
      "27/27 [==============================] - 0s 190us/sample - loss: 1.6323 - acc: 0.5926\n",
      "Epoch 48/200\n",
      "27/27 [==============================] - 0s 299us/sample - loss: 1.5413 - acc: 0.7037\n",
      "Epoch 49/200\n",
      "27/27 [==============================] - 0s 216us/sample - loss: 1.5229 - acc: 0.5926\n",
      "Epoch 50/200\n",
      "27/27 [==============================] - 0s 373us/sample - loss: 1.5531 - acc: 0.6667\n",
      "Epoch 51/200\n",
      "27/27 [==============================] - 0s 362us/sample - loss: 1.5704 - acc: 0.5926\n",
      "Epoch 52/200\n",
      "27/27 [==============================] - 0s 198us/sample - loss: 1.5984 - acc: 0.5185\n",
      "Epoch 53/200\n",
      "27/27 [==============================] - 0s 186us/sample - loss: 1.6240 - acc: 0.5926\n",
      "Epoch 54/200\n",
      "27/27 [==============================] - 0s 253us/sample - loss: 1.5474 - acc: 0.4815\n",
      "Epoch 55/200\n",
      "27/27 [==============================] - 0s 252us/sample - loss: 1.5864 - acc: 0.5556\n",
      "Epoch 56/200\n",
      "27/27 [==============================] - 0s 160us/sample - loss: 1.5418 - acc: 0.5926\n",
      "Epoch 57/200\n",
      "27/27 [==============================] - 0s 212us/sample - loss: 1.5409 - acc: 0.5185\n",
      "Epoch 58/200\n",
      "27/27 [==============================] - 0s 331us/sample - loss: 1.4483 - acc: 0.6296\n",
      "Epoch 59/200\n",
      "27/27 [==============================] - 0s 273us/sample - loss: 1.4061 - acc: 0.5926\n",
      "Epoch 60/200\n",
      "27/27 [==============================] - 0s 222us/sample - loss: 1.2609 - acc: 0.7778\n",
      "Epoch 61/200\n",
      "27/27 [==============================] - 0s 241us/sample - loss: 1.3944 - acc: 0.6296\n",
      "Epoch 62/200\n",
      "27/27 [==============================] - 0s 322us/sample - loss: 1.3669 - acc: 0.6667\n",
      "Epoch 63/200\n",
      "27/27 [==============================] - 0s 405us/sample - loss: 1.3264 - acc: 0.7037\n",
      "Epoch 64/200\n",
      "27/27 [==============================] - 0s 574us/sample - loss: 1.3733 - acc: 0.6296\n",
      "Epoch 65/200\n",
      "27/27 [==============================] - 0s 219us/sample - loss: 1.3467 - acc: 0.6667\n",
      "Epoch 66/200\n",
      "27/27 [==============================] - 0s 218us/sample - loss: 1.1929 - acc: 0.7407\n",
      "Epoch 67/200\n",
      "27/27 [==============================] - 0s 333us/sample - loss: 1.2861 - acc: 0.5556\n",
      "Epoch 68/200\n",
      "27/27 [==============================] - 0s 302us/sample - loss: 1.2007 - acc: 0.5556\n",
      "Epoch 69/200\n",
      "27/27 [==============================] - 0s 257us/sample - loss: 1.1960 - acc: 0.7778\n",
      "Epoch 70/200\n",
      "27/27 [==============================] - 0s 326us/sample - loss: 1.1851 - acc: 0.7037\n",
      "Epoch 71/200\n",
      "27/27 [==============================] - 0s 241us/sample - loss: 1.1474 - acc: 0.8148\n",
      "Epoch 72/200\n",
      "27/27 [==============================] - 0s 227us/sample - loss: 1.2034 - acc: 0.6667\n",
      "Epoch 73/200\n",
      "27/27 [==============================] - 0s 269us/sample - loss: 1.1953 - acc: 0.7037\n",
      "Epoch 74/200\n",
      "27/27 [==============================] - 0s 198us/sample - loss: 1.1218 - acc: 0.8148\n",
      "Epoch 75/200\n",
      "27/27 [==============================] - 0s 223us/sample - loss: 0.9646 - acc: 0.8148\n",
      "Epoch 76/200\n",
      "27/27 [==============================] - 0s 183us/sample - loss: 0.9955 - acc: 0.7407\n",
      "Epoch 77/200\n",
      "27/27 [==============================] - 0s 217us/sample - loss: 0.9542 - acc: 0.8148\n",
      "Epoch 78/200\n",
      "27/27 [==============================] - 0s 172us/sample - loss: 0.9946 - acc: 0.7778\n",
      "Epoch 79/200\n",
      "27/27 [==============================] - 0s 184us/sample - loss: 1.2163 - acc: 0.7037\n",
      "Epoch 80/200\n",
      "27/27 [==============================] - 0s 234us/sample - loss: 0.9056 - acc: 0.8519\n",
      "Epoch 81/200\n",
      "27/27 [==============================] - 0s 230us/sample - loss: 0.9553 - acc: 0.9259\n",
      "Epoch 82/200\n",
      "27/27 [==============================] - 0s 291us/sample - loss: 1.0460 - acc: 0.7778\n",
      "Epoch 83/200\n",
      "27/27 [==============================] - 0s 217us/sample - loss: 0.9220 - acc: 0.7778\n",
      "Epoch 84/200\n",
      "27/27 [==============================] - 0s 192us/sample - loss: 0.9371 - acc: 0.8148\n",
      "Epoch 85/200\n",
      "27/27 [==============================] - 0s 198us/sample - loss: 0.8464 - acc: 0.8519\n",
      "Epoch 86/200\n",
      "27/27 [==============================] - 0s 219us/sample - loss: 0.8650 - acc: 0.8148\n",
      "Epoch 87/200\n",
      "27/27 [==============================] - 0s 300us/sample - loss: 0.7732 - acc: 0.7778\n",
      "Epoch 88/200\n",
      "27/27 [==============================] - 0s 189us/sample - loss: 0.8635 - acc: 0.7407\n",
      "Epoch 89/200\n",
      "27/27 [==============================] - 0s 242us/sample - loss: 0.7208 - acc: 0.8519\n",
      "Epoch 90/200\n",
      "27/27 [==============================] - 0s 258us/sample - loss: 0.8529 - acc: 0.8148\n",
      "Epoch 91/200\n",
      "27/27 [==============================] - 0s 203us/sample - loss: 0.8365 - acc: 0.8148\n",
      "Epoch 92/200\n",
      "27/27 [==============================] - 0s 243us/sample - loss: 0.7993 - acc: 0.8519\n",
      "Epoch 93/200\n",
      "27/27 [==============================] - 0s 233us/sample - loss: 0.7997 - acc: 0.7778\n",
      "Epoch 94/200\n",
      "27/27 [==============================] - 0s 219us/sample - loss: 0.6925 - acc: 0.8148\n",
      "Epoch 95/200\n",
      "27/27 [==============================] - 0s 290us/sample - loss: 0.5817 - acc: 0.9259\n",
      "Epoch 96/200\n",
      "27/27 [==============================] - 0s 276us/sample - loss: 0.7733 - acc: 0.8519\n",
      "Epoch 97/200\n",
      "27/27 [==============================] - 0s 308us/sample - loss: 0.6528 - acc: 0.7778\n",
      "Epoch 98/200\n",
      "27/27 [==============================] - 0s 227us/sample - loss: 0.6634 - acc: 0.7778\n",
      "Epoch 99/200\n",
      "27/27 [==============================] - 0s 263us/sample - loss: 0.7243 - acc: 0.8148\n",
      "Epoch 100/200\n",
      "27/27 [==============================] - 0s 242us/sample - loss: 0.6450 - acc: 0.8519\n",
      "Epoch 101/200\n",
      "27/27 [==============================] - 0s 298us/sample - loss: 0.5667 - acc: 0.8889\n",
      "Epoch 102/200\n",
      "27/27 [==============================] - 0s 180us/sample - loss: 0.5382 - acc: 0.8889\n",
      "Epoch 103/200\n",
      "27/27 [==============================] - 0s 227us/sample - loss: 0.5800 - acc: 0.8519\n",
      "Epoch 104/200\n",
      "27/27 [==============================] - 0s 217us/sample - loss: 0.6506 - acc: 0.7778\n",
      "Epoch 105/200\n",
      "27/27 [==============================] - 0s 250us/sample - loss: 0.5773 - acc: 0.7778\n",
      "Epoch 106/200\n",
      "27/27 [==============================] - 0s 230us/sample - loss: 0.5501 - acc: 0.9259\n",
      "Epoch 107/200\n",
      "27/27 [==============================] - 0s 217us/sample - loss: 0.5332 - acc: 0.8148\n",
      "Epoch 108/200\n",
      "27/27 [==============================] - 0s 181us/sample - loss: 0.5315 - acc: 0.8519\n",
      "Epoch 109/200\n",
      "27/27 [==============================] - 0s 265us/sample - loss: 0.5371 - acc: 0.8889\n",
      "Epoch 110/200\n",
      "27/27 [==============================] - 0s 228us/sample - loss: 0.5666 - acc: 0.8519\n",
      "Epoch 111/200\n",
      "27/27 [==============================] - 0s 300us/sample - loss: 0.4224 - acc: 0.9259\n",
      "Epoch 112/200\n",
      "27/27 [==============================] - 0s 172us/sample - loss: 0.5199 - acc: 0.8889\n",
      "Epoch 113/200\n",
      "27/27 [==============================] - 0s 363us/sample - loss: 0.4806 - acc: 0.9259\n",
      "Epoch 114/200\n",
      "27/27 [==============================] - 0s 186us/sample - loss: 0.4826 - acc: 0.8889\n",
      "Epoch 115/200\n",
      "27/27 [==============================] - 0s 190us/sample - loss: 0.4228 - acc: 0.8889\n",
      "Epoch 116/200\n",
      "27/27 [==============================] - 0s 236us/sample - loss: 0.5335 - acc: 0.8889\n",
      "Epoch 117/200\n",
      "27/27 [==============================] - 0s 204us/sample - loss: 0.3925 - acc: 0.8889\n",
      "Epoch 118/200\n",
      "27/27 [==============================] - 0s 272us/sample - loss: 0.4701 - acc: 0.8519\n",
      "Epoch 119/200\n",
      "27/27 [==============================] - 0s 240us/sample - loss: 0.4928 - acc: 0.7037\n",
      "Epoch 120/200\n",
      "27/27 [==============================] - 0s 217us/sample - loss: 0.3712 - acc: 0.8889\n",
      "Epoch 121/200\n",
      "27/27 [==============================] - 0s 425us/sample - loss: 0.4606 - acc: 0.8519\n",
      "Epoch 122/200\n",
      "27/27 [==============================] - 0s 357us/sample - loss: 0.4007 - acc: 0.9259\n",
      "Epoch 123/200\n",
      "27/27 [==============================] - 0s 225us/sample - loss: 0.4759 - acc: 0.8889\n",
      "Epoch 124/200\n",
      "27/27 [==============================] - 0s 219us/sample - loss: 0.5148 - acc: 0.8148\n",
      "Epoch 125/200\n",
      "27/27 [==============================] - 0s 152us/sample - loss: 0.4232 - acc: 0.8889\n",
      "Epoch 126/200\n",
      "27/27 [==============================] - 0s 160us/sample - loss: 0.4033 - acc: 0.9259\n",
      "Epoch 127/200\n",
      "27/27 [==============================] - 0s 213us/sample - loss: 0.3372 - acc: 0.9259\n",
      "Epoch 128/200\n",
      "27/27 [==============================] - 0s 381us/sample - loss: 0.3363 - acc: 0.9259\n",
      "Epoch 129/200\n",
      "27/27 [==============================] - 0s 327us/sample - loss: 0.3751 - acc: 0.8889\n",
      "Epoch 130/200\n",
      "27/27 [==============================] - 0s 391us/sample - loss: 0.2599 - acc: 0.9630\n",
      "Epoch 131/200\n",
      "27/27 [==============================] - 0s 455us/sample - loss: 0.3318 - acc: 0.9259\n",
      "Epoch 132/200\n",
      "27/27 [==============================] - 0s 505us/sample - loss: 0.3579 - acc: 0.8889\n",
      "Epoch 133/200\n",
      "27/27 [==============================] - 0s 394us/sample - loss: 0.4251 - acc: 0.8519\n",
      "Epoch 134/200\n",
      "27/27 [==============================] - 0s 195us/sample - loss: 0.2522 - acc: 0.9259\n",
      "Epoch 135/200\n",
      "27/27 [==============================] - 0s 201us/sample - loss: 0.3099 - acc: 0.9259\n",
      "Epoch 136/200\n",
      "27/27 [==============================] - 0s 229us/sample - loss: 0.4237 - acc: 0.8148\n",
      "Epoch 137/200\n",
      "27/27 [==============================] - 0s 170us/sample - loss: 0.3586 - acc: 0.9259\n",
      "Epoch 138/200\n",
      "27/27 [==============================] - 0s 156us/sample - loss: 0.3326 - acc: 0.8519\n",
      "Epoch 139/200\n",
      "27/27 [==============================] - 0s 155us/sample - loss: 0.3675 - acc: 0.9259\n",
      "Epoch 140/200\n",
      "27/27 [==============================] - 0s 224us/sample - loss: 0.3126 - acc: 0.9259\n",
      "Epoch 141/200\n",
      "27/27 [==============================] - 0s 227us/sample - loss: 0.5809 - acc: 0.8148\n",
      "Epoch 142/200\n",
      "27/27 [==============================] - 0s 317us/sample - loss: 0.3394 - acc: 0.8519\n",
      "Epoch 143/200\n",
      "27/27 [==============================] - 0s 283us/sample - loss: 0.1946 - acc: 0.9630\n",
      "Epoch 144/200\n",
      "27/27 [==============================] - 0s 185us/sample - loss: 0.2911 - acc: 0.9259\n",
      "Epoch 145/200\n",
      "27/27 [==============================] - 0s 210us/sample - loss: 0.2940 - acc: 0.9259\n",
      "Epoch 146/200\n",
      "27/27 [==============================] - 0s 238us/sample - loss: 0.3090 - acc: 0.9259\n",
      "Epoch 147/200\n",
      "27/27 [==============================] - 0s 247us/sample - loss: 0.3593 - acc: 0.8889\n",
      "Epoch 148/200\n",
      "27/27 [==============================] - 0s 224us/sample - loss: 0.2087 - acc: 0.9630\n",
      "Epoch 149/200\n",
      "27/27 [==============================] - 0s 234us/sample - loss: 0.2730 - acc: 0.9630\n",
      "Epoch 150/200\n",
      "27/27 [==============================] - 0s 198us/sample - loss: 0.3019 - acc: 0.9259\n",
      "Epoch 151/200\n",
      "27/27 [==============================] - 0s 189us/sample - loss: 0.4486 - acc: 0.8519\n",
      "Epoch 152/200\n",
      "27/27 [==============================] - 0s 208us/sample - loss: 0.2972 - acc: 0.8889\n",
      "Epoch 153/200\n",
      "27/27 [==============================] - 0s 239us/sample - loss: 0.2382 - acc: 1.0000\n",
      "Epoch 154/200\n",
      "27/27 [==============================] - 0s 182us/sample - loss: 0.2942 - acc: 0.8889\n",
      "Epoch 155/200\n",
      "27/27 [==============================] - 0s 216us/sample - loss: 0.2771 - acc: 0.9259\n",
      "Epoch 156/200\n",
      "27/27 [==============================] - 0s 231us/sample - loss: 0.2546 - acc: 0.9630\n",
      "Epoch 157/200\n",
      "27/27 [==============================] - 0s 190us/sample - loss: 0.2785 - acc: 0.8519\n",
      "Epoch 158/200\n",
      "27/27 [==============================] - 0s 235us/sample - loss: 0.2640 - acc: 0.9259\n",
      "Epoch 159/200\n",
      "27/27 [==============================] - 0s 255us/sample - loss: 0.3120 - acc: 0.9259\n",
      "Epoch 160/200\n",
      "27/27 [==============================] - 0s 198us/sample - loss: 0.1922 - acc: 0.9630\n",
      "Epoch 161/200\n",
      "27/27 [==============================] - 0s 264us/sample - loss: 0.2706 - acc: 0.9259\n",
      "Epoch 162/200\n",
      "27/27 [==============================] - 0s 213us/sample - loss: 0.2547 - acc: 0.9630\n",
      "Epoch 163/200\n",
      "27/27 [==============================] - 0s 263us/sample - loss: 0.2059 - acc: 0.9630\n",
      "Epoch 164/200\n",
      "27/27 [==============================] - 0s 367us/sample - loss: 0.1567 - acc: 1.0000\n",
      "Epoch 165/200\n",
      "27/27 [==============================] - 0s 156us/sample - loss: 0.2629 - acc: 0.9630\n",
      "Epoch 166/200\n",
      "27/27 [==============================] - 0s 184us/sample - loss: 0.1768 - acc: 0.9630\n",
      "Epoch 167/200\n",
      "27/27 [==============================] - 0s 214us/sample - loss: 0.2206 - acc: 0.9259\n",
      "Epoch 168/200\n",
      "27/27 [==============================] - 0s 213us/sample - loss: 0.1799 - acc: 1.0000\n",
      "Epoch 169/200\n",
      "27/27 [==============================] - 0s 253us/sample - loss: 0.2021 - acc: 0.9259\n",
      "Epoch 170/200\n",
      "27/27 [==============================] - 0s 212us/sample - loss: 0.2149 - acc: 0.9259\n",
      "Epoch 171/200\n",
      "27/27 [==============================] - 0s 293us/sample - loss: 0.2404 - acc: 0.9259\n",
      "Epoch 172/200\n",
      "27/27 [==============================] - 0s 205us/sample - loss: 0.2132 - acc: 0.9630\n",
      "Epoch 173/200\n"
     ]
    },
    {
     "name": "stdout",
     "output_type": "stream",
     "text": [
      "27/27 [==============================] - 0s 201us/sample - loss: 0.1463 - acc: 0.9630\n",
      "Epoch 174/200\n",
      "27/27 [==============================] - 0s 223us/sample - loss: 0.1185 - acc: 1.0000\n",
      "Epoch 175/200\n",
      "27/27 [==============================] - 0s 175us/sample - loss: 0.1748 - acc: 0.9630\n",
      "Epoch 176/200\n",
      "27/27 [==============================] - 0s 250us/sample - loss: 0.2055 - acc: 0.8889\n",
      "Epoch 177/200\n",
      "27/27 [==============================] - 0s 221us/sample - loss: 0.1067 - acc: 1.0000\n",
      "Epoch 178/200\n",
      "27/27 [==============================] - 0s 267us/sample - loss: 0.1425 - acc: 1.0000\n",
      "Epoch 179/200\n",
      "27/27 [==============================] - 0s 242us/sample - loss: 0.1617 - acc: 0.9630\n",
      "Epoch 180/200\n",
      "27/27 [==============================] - 0s 232us/sample - loss: 0.2041 - acc: 0.9630\n",
      "Epoch 181/200\n",
      "27/27 [==============================] - 0s 263us/sample - loss: 0.1624 - acc: 1.0000\n",
      "Epoch 182/200\n",
      "27/27 [==============================] - 0s 238us/sample - loss: 0.1422 - acc: 0.9630\n",
      "Epoch 183/200\n",
      "27/27 [==============================] - 0s 276us/sample - loss: 0.1587 - acc: 0.9259\n",
      "Epoch 184/200\n",
      "27/27 [==============================] - 0s 210us/sample - loss: 0.1917 - acc: 0.9259\n",
      "Epoch 185/200\n",
      "27/27 [==============================] - 0s 222us/sample - loss: 0.1338 - acc: 1.0000\n",
      "Epoch 186/200\n",
      "27/27 [==============================] - 0s 202us/sample - loss: 0.1827 - acc: 0.9630\n",
      "Epoch 187/200\n",
      "27/27 [==============================] - 0s 294us/sample - loss: 0.1209 - acc: 1.0000\n",
      "Epoch 188/200\n",
      "27/27 [==============================] - 0s 217us/sample - loss: 0.1389 - acc: 0.9630\n",
      "Epoch 189/200\n",
      "27/27 [==============================] - 0s 633us/sample - loss: 0.1426 - acc: 1.0000\n",
      "Epoch 190/200\n",
      "27/27 [==============================] - 0s 250us/sample - loss: 0.1386 - acc: 0.9630\n",
      "Epoch 191/200\n",
      "27/27 [==============================] - 0s 272us/sample - loss: 0.1767 - acc: 0.9630\n",
      "Epoch 192/200\n",
      "27/27 [==============================] - 0s 322us/sample - loss: 0.1723 - acc: 0.9630\n",
      "Epoch 193/200\n",
      "27/27 [==============================] - 0s 245us/sample - loss: 0.1603 - acc: 0.9259\n",
      "Epoch 194/200\n",
      "27/27 [==============================] - 0s 203us/sample - loss: 0.2817 - acc: 0.8889\n",
      "Epoch 195/200\n",
      "27/27 [==============================] - 0s 382us/sample - loss: 0.1335 - acc: 0.9259\n",
      "Epoch 196/200\n",
      "27/27 [==============================] - 0s 288us/sample - loss: 0.1880 - acc: 0.9630\n",
      "Epoch 197/200\n",
      "27/27 [==============================] - 0s 383us/sample - loss: 0.1208 - acc: 0.9630\n",
      "Epoch 198/200\n",
      "27/27 [==============================] - 0s 482us/sample - loss: 0.2396 - acc: 0.9630\n",
      "Epoch 199/200\n",
      "27/27 [==============================] - 0s 475us/sample - loss: 0.2164 - acc: 0.9630\n",
      "Epoch 200/200\n",
      "27/27 [==============================] - 0s 612us/sample - loss: 0.1245 - acc: 1.0000\n"
     ]
    },
    {
     "data": {
      "text/plain": [
       "<keras.callbacks.History at 0x7ff40a332cd0>"
      ]
     },
     "execution_count": 25,
     "metadata": {},
     "output_type": "execute_result"
    }
   ],
   "source": [
    "model.fit(x1,y1,batch_size=32,epochs=200)"
   ]
  },
  {
   "cell_type": "code",
   "execution_count": 26,
   "id": "bcd4f4fb",
   "metadata": {},
   "outputs": [
    {
     "data": {
      "text/plain": [
       "[<matplotlib.lines.Line2D at 0x7ff40b17e250>]"
      ]
     },
     "execution_count": 26,
     "metadata": {},
     "output_type": "execute_result"
    },
    {
     "data": {
      "image/png": "[encoded data removed]",
      "text/plain": [
       "<Figure size 432x288 with 1 Axes>"
      ]
     },
     "metadata": {
      "needs_background": "light"
     },
     "output_type": "display_data"
    }
   ],
   "source": [
    "import matplotlib.pyplot as plt\n",
    "plt.plot(model.history.history[\"loss\"])"
   ]
  },
  {
   "cell_type": "code",
   "execution_count": 27,
   "id": "19109df7",
   "metadata": {},
   "outputs": [],
   "source": [
    "model.save(\"model1_100\")"
   ]
  },
  {
   "cell_type": "code",
   "execution_count": 28,
   "id": "41b84ea9",
   "metadata": {},
   "outputs": [],
   "source": [
    "import pickle\n",
    "pickle.dump({'words':words,'labels':labels,'x':x,'y':y},open('params',\"wb\"))"
   ]
  },
  {
   "cell_type": "markdown",
   "id": "8fce9cfb",
   "metadata": {},
   "source": [
    "# "
   ]
  },
  {
   "cell_type": "code",
   "execution_count": 29,
   "id": "22f92aef",
   "metadata": {},
   "outputs": [],
   "source": [
    "def clean(sentence):\n",
    "    token = nltk.word_tokenize(sentence)\n",
    "    result = [stemmer.stem(w.lower()) for w in token]\n",
    "    return result"
   ]
  },
  {
   "cell_type": "code",
   "execution_count": 30,
   "id": "0fa8e136",
   "metadata": {},
   "outputs": [],
   "source": [
    "def bow(user_input,words,show_details=False):\n",
    "    line = clean(user_input)\n",
    "    bag = [0]*len(words)\n",
    "    for s in line:\n",
    "        for i,w in enumerate(words):\n",
    "            if s == w:\n",
    "                bag[i] = 1\n",
    "                #if show_details:\n",
    "                 #   print(\"found : %s\" % w)\n",
    "    vector = np.array(bag)\n",
    "                \n",
    "    return vector.reshape(1,len(words)) "
   ]
  },
  {
   "cell_type": "code",
   "execution_count": 31,
   "id": "f77b3f9c",
   "metadata": {},
   "outputs": [],
   "source": [
    "threshold = 0.25\n",
    "\n",
    "def prediction(user_input):\n",
    "    prob = model.predict([bow(user_input,words)])[0]\n",
    "    prob = [[i,r] for i,r in enumerate(prob) if r>threshold]\n",
    "    prob.sort(key=lambda x:x[1], reverse=True)\n",
    "    for i in prob:\n",
    "        tag,prob = labels[i[0]],i[1]\n",
    "    return tag,prob"
   ]
  },
  {
   "cell_type": "code",
   "execution_count": 38,
   "id": "10c9b10c",
   "metadata": {},
   "outputs": [],
   "source": [
    "def response(user_input):\n",
    "    result = prediction(user_input)\n",
    "    for i in intents[\"intents\"]:\n",
    "        if i[\"tag\"] == result[0]:\n",
    "            return print('Bot :',random.choice(i[\"responses\"]))\n",
    "        "
   ]
  },
  {
   "cell_type": "code",
   "execution_count": 39,
   "id": "7c21bcd3",
   "metadata": {},
   "outputs": [
    {
     "name": "stdout",
     "output_type": "stream",
     "text": [
      "Bot : Have a nice day\n"
     ]
    }
   ],
   "source": [
    "response(\"see you later\")"
   ]
  },
  {
   "cell_type": "code",
   "execution_count": 43,
   "id": "f186f75b",
   "metadata": {},
   "outputs": [
    {
     "name": "stdout",
     "output_type": "stream",
     "text": [
      "hi\n",
      "Mercy : hi\n",
      "Bot : Hi there, how can I help?\n",
      "I want to rent mop today\n",
      "Mercy : I want to rent mop today\n",
      "Bot : We rent Yamaha, Piaggio and Vespa mopeds\n",
      "can I get it today\n",
      "Mercy : can I get it today\n",
      "Bot : For rentals today please call 1-800-MYMOPED\n",
      "when do you open\n",
      "Mercy : when do you open\n",
      "Bot : Our hours are 9am-9pm every day\n",
      "ok thanks\n",
      "Mercy : ok thanks\n",
      "Bot : My pleasure\n",
      "bye\n",
      "Mercy : bye\n",
      "Bot : See you later, thanks for visiting\n",
      "quit\n",
      "Mercy : quit\n",
      "Bot : Bye! Come back again soon.\n",
      " Bot : Thanks for chatting with me\n"
     ]
    }
   ],
   "source": [
    "status = True\n",
    "while status:\n",
    "    inp = input()\n",
    "    if inp:\n",
    "        print(\"Mercy :\",inp)\n",
    "        response(inp)\n",
    "        \n",
    "    if inp == \"quit\":\n",
    "        print(\"Bot : Thanks for chatting with me\")\n",
    "        status = False\n"
   ]
  },
  {
   "cell_type": "markdown",
   "id": "56151128",
   "metadata": {},
   "source": [
    "# "
   ]
  },
  {
   "cell_type": "markdown",
   "id": "59a390ce",
   "metadata": {},
   "source": [
    "# "
   ]
  },
  {
   "cell_type": "markdown",
   "id": "651eeadf",
   "metadata": {},
   "source": [
    "# "
   ]
  },
  {
   "cell_type": "markdown",
   "id": "a70b61ce",
   "metadata": {},
   "source": [
    "# "
   ]
  }
 ],
 "metadata": {
  "kernelspec": {
   "display_name": "Python 3 (ipykernel)",
   "language": "python",
   "name": "python3"
  },
  "language_info": {
   "codemirror_mode": {
    "name": "ipython",
    "version": 3
   },
   "file_extension": ".py",
   "mimetype": "text/x-python",
   "name": "python",
   "nbconvert_exporter": "python",
   "pygments_lexer": "ipython3",
   "version": "3.9.1"
  }
 },
 "nbformat": 4,
 "nbformat_minor": 5
}
